{
 "cells": [
  {
   "cell_type": "markdown",
   "metadata": {},
   "source": [
    "# TRAINING AND TESTING SET:"
   ]
  },
  {
   "cell_type": "markdown",
   "metadata": {},
   "source": [
    "Splitting a data set into training and testing is vital in Machine Learning. Lets look at different methods which help us to accomplish that:"
   ]
  },
  {
   "cell_type": "markdown",
   "metadata": {},
   "source": [
    "## 1. Train_test_split:"
   ]
  },
  {
   "cell_type": "markdown",
   "metadata": {},
   "source": [
    "Lets look at below code snippet:"
   ]
  },
  {
   "cell_type": "code",
   "execution_count": 1,
   "metadata": {},
   "outputs": [],
   "source": [
    "import numpy as np\n",
    "import pandas as pd\n",
    "from sklearn.model_selection import train_test_split\n",
    "import warnings\n",
    "warnings.filterwarnings('ignore')"
   ]
  },
  {
   "cell_type": "code",
   "execution_count": 2,
   "metadata": {},
   "outputs": [
    {
     "data": {
      "text/html": [
       "<div>\n",
       "<style scoped>\n",
       "    .dataframe tbody tr th:only-of-type {\n",
       "        vertical-align: middle;\n",
       "    }\n",
       "\n",
       "    .dataframe tbody tr th {\n",
       "        vertical-align: top;\n",
       "    }\n",
       "\n",
       "    .dataframe thead th {\n",
       "        text-align: right;\n",
       "    }\n",
       "</style>\n",
       "<table border=\"1\" class=\"dataframe\">\n",
       "  <thead>\n",
       "    <tr style=\"text-align: right;\">\n",
       "      <th></th>\n",
       "      <th>col</th>\n",
       "      <th>target</th>\n",
       "    </tr>\n",
       "  </thead>\n",
       "  <tbody>\n",
       "    <tr>\n",
       "      <th>0</th>\n",
       "      <td>0.712569</td>\n",
       "      <td>1.0</td>\n",
       "    </tr>\n",
       "    <tr>\n",
       "      <th>1</th>\n",
       "      <td>0.082269</td>\n",
       "      <td>1.0</td>\n",
       "    </tr>\n",
       "    <tr>\n",
       "      <th>2</th>\n",
       "      <td>0.436717</td>\n",
       "      <td>1.0</td>\n",
       "    </tr>\n",
       "    <tr>\n",
       "      <th>3</th>\n",
       "      <td>0.868498</td>\n",
       "      <td>1.0</td>\n",
       "    </tr>\n",
       "    <tr>\n",
       "      <th>4</th>\n",
       "      <td>0.494620</td>\n",
       "      <td>1.0</td>\n",
       "    </tr>\n",
       "    <tr>\n",
       "      <th>5</th>\n",
       "      <td>0.980849</td>\n",
       "      <td>1.0</td>\n",
       "    </tr>\n",
       "    <tr>\n",
       "      <th>6</th>\n",
       "      <td>0.838208</td>\n",
       "      <td>1.0</td>\n",
       "    </tr>\n",
       "    <tr>\n",
       "      <th>7</th>\n",
       "      <td>0.094207</td>\n",
       "      <td>1.0</td>\n",
       "    </tr>\n",
       "    <tr>\n",
       "      <th>8</th>\n",
       "      <td>0.739300</td>\n",
       "      <td>1.0</td>\n",
       "    </tr>\n",
       "    <tr>\n",
       "      <th>9</th>\n",
       "      <td>0.818747</td>\n",
       "      <td>1.0</td>\n",
       "    </tr>\n",
       "    <tr>\n",
       "      <th>10</th>\n",
       "      <td>0.607988</td>\n",
       "      <td>1.0</td>\n",
       "    </tr>\n",
       "    <tr>\n",
       "      <th>11</th>\n",
       "      <td>0.520580</td>\n",
       "      <td>1.0</td>\n",
       "    </tr>\n",
       "    <tr>\n",
       "      <th>12</th>\n",
       "      <td>0.201841</td>\n",
       "      <td>0.0</td>\n",
       "    </tr>\n",
       "    <tr>\n",
       "      <th>13</th>\n",
       "      <td>0.167652</td>\n",
       "      <td>0.0</td>\n",
       "    </tr>\n",
       "    <tr>\n",
       "      <th>14</th>\n",
       "      <td>0.725999</td>\n",
       "      <td>0.0</td>\n",
       "    </tr>\n",
       "    <tr>\n",
       "      <th>15</th>\n",
       "      <td>0.187895</td>\n",
       "      <td>0.0</td>\n",
       "    </tr>\n",
       "  </tbody>\n",
       "</table>\n",
       "</div>"
      ],
      "text/plain": [
       "         col  target\n",
       "0   0.712569     1.0\n",
       "1   0.082269     1.0\n",
       "2   0.436717     1.0\n",
       "3   0.868498     1.0\n",
       "4   0.494620     1.0\n",
       "5   0.980849     1.0\n",
       "6   0.838208     1.0\n",
       "7   0.094207     1.0\n",
       "8   0.739300     1.0\n",
       "9   0.818747     1.0\n",
       "10  0.607988     1.0\n",
       "11  0.520580     1.0\n",
       "12  0.201841     0.0\n",
       "13  0.167652     0.0\n",
       "14  0.725999     0.0\n",
       "15  0.187895     0.0"
      ]
     },
     "execution_count": 2,
     "metadata": {},
     "output_type": "execute_result"
    }
   ],
   "source": [
    "target=np.ones(16)\n",
    "target[-4:]=0\n",
    "df=pd.DataFrame({'col':np.random.random(16),'target':target})\n",
    "df"
   ]
  },
  {
   "cell_type": "code",
   "execution_count": 3,
   "metadata": {},
   "outputs": [
    {
     "name": "stdout",
     "output_type": "stream",
     "text": [
      "Train Index: Int64Index([0, 1, 2, 3, 4, 5, 6, 7, 8, 9, 10, 11], dtype='int64')\n",
      " Test Index: Int64Index([12, 13, 14, 15], dtype='int64')\n"
     ]
    }
   ],
   "source": [
    "X,y=df.col,df.target                                     \n",
    "\n",
    "X_train,X_test,y_train,y_test=train_test_split(X,y,test_size=0.2,shuffle=False)\n",
    "print('Train Index: {}\\n Test Index: {}'.format(X_train.index,X_test.index))"
   ]
  },
  {
   "cell_type": "markdown",
   "metadata": {},
   "source": [
    "Since, shuffle is turned off, look last four indexes have made thier way into test set.Shuffling is neccessary since training of only certain target variables is done which is not good. Since our model will not generalize to new data points which point to unknown targets."
   ]
  },
  {
   "cell_type": "markdown",
   "metadata": {},
   "source": [
    "Lets turn on shuffle, and also random_state which everytime we reset our cells we dont want our df to be changed everytime!"
   ]
  },
  {
   "cell_type": "code",
   "execution_count": 4,
   "metadata": {},
   "outputs": [
    {
     "name": "stdout",
     "output_type": "stream",
     "text": [
      "Train Index: Int64Index([13, 11, 8, 9, 2, 15, 4, 7, 10, 12, 3, 6], dtype='int64')\n",
      " Test Index: Int64Index([0, 1, 5, 14], dtype='int64')\n"
     ]
    }
   ],
   "source": [
    "X_train,X_test,y_train,y_test=train_test_split(X,y,test_size=0.2,shuffle=True,random_state=42)\n",
    "print('Train Index: {}\\n Test Index: {}'.format(X_train.index,X_test.index))"
   ]
  },
  {
   "cell_type": "markdown",
   "metadata": {},
   "source": [
    "Look, now its better.\n",
    "Another point to take our account is **Stratification**\n",
    "Look, our test set should have the same data proportions as our train set right?"
   ]
  },
  {
   "cell_type": "code",
   "execution_count": 5,
   "metadata": {},
   "outputs": [
    {
     "name": "stdout",
     "output_type": "stream",
     "text": [
      "0 Distribution : True    0.25\n",
      "dtype: float64\n",
      " 1 Distribution : False    0.75\n",
      "dtype: float64\n"
     ]
    }
   ],
   "source": [
    "df1=pd.DataFrame(X_train.index.isin([12,13,14,15]))\n",
    "print('0 Distribution : {}\\n 1 Distribution : {}'.format(df1.value_counts()[1]/df1.shape[0],df1.value_counts()[0]/df1.shape[0]))"
   ]
  },
  {
   "cell_type": "code",
   "execution_count": 6,
   "metadata": {},
   "outputs": [
    {
     "name": "stdout",
     "output_type": "stream",
     "text": [
      "0 Distribution : True    0.25\n",
      "dtype: float64\n",
      " 1 Distribution : False    0.75\n",
      "dtype: float64\n"
     ]
    }
   ],
   "source": [
    "df2=pd.DataFrame(X_test.index.isin([12,13,14,15]))\n",
    "print('0 Distribution : {}\\n 1 Distribution : {}'.format(df2.value_counts()[1]/df2.shape[0],df2.value_counts()[0]/df2.shape[0]))"
   ]
  },
  {
   "cell_type": "markdown",
   "metadata": {},
   "source": [
    "Fortunately, here the distribution came out to be same."
   ]
  },
  {
   "cell_type": "markdown",
   "metadata": {},
   "source": [
    "When there are more features,its difficult to maintain same data proportion in both train and test set. You might refer to your data science team which feature/features they think is most important or you can run correlation matrix on the dataframe to get insights on which feature's distribution is important."
   ]
  },
  {
   "cell_type": "code",
   "execution_count": 7,
   "metadata": {},
   "outputs": [],
   "source": [
    "df3=pd.DataFrame({'Languages':['Hindi','English','French','English','Hindi','Hindi','French','Hindi','French','Hindi','English','Hindi','French','English','Hindi','French'],'scores':[12,55,65,23,98,76,9,123,49,64,76,59,31,11,63,38],\n",
    "                 'percentage':[45,32,65,67,45,98,21,32,54,87,59,43,26,10,4,76]})"
   ]
  },
  {
   "cell_type": "code",
   "execution_count": 8,
   "metadata": {},
   "outputs": [
    {
     "data": {
      "text/html": [
       "<div>\n",
       "<style scoped>\n",
       "    .dataframe tbody tr th:only-of-type {\n",
       "        vertical-align: middle;\n",
       "    }\n",
       "\n",
       "    .dataframe tbody tr th {\n",
       "        vertical-align: top;\n",
       "    }\n",
       "\n",
       "    .dataframe thead th {\n",
       "        text-align: right;\n",
       "    }\n",
       "</style>\n",
       "<table border=\"1\" class=\"dataframe\">\n",
       "  <thead>\n",
       "    <tr style=\"text-align: right;\">\n",
       "      <th></th>\n",
       "      <th>Languages</th>\n",
       "      <th>scores</th>\n",
       "      <th>percentage</th>\n",
       "    </tr>\n",
       "  </thead>\n",
       "  <tbody>\n",
       "    <tr>\n",
       "      <th>0</th>\n",
       "      <td>Hindi</td>\n",
       "      <td>12</td>\n",
       "      <td>45</td>\n",
       "    </tr>\n",
       "    <tr>\n",
       "      <th>1</th>\n",
       "      <td>English</td>\n",
       "      <td>55</td>\n",
       "      <td>32</td>\n",
       "    </tr>\n",
       "    <tr>\n",
       "      <th>2</th>\n",
       "      <td>French</td>\n",
       "      <td>65</td>\n",
       "      <td>65</td>\n",
       "    </tr>\n",
       "    <tr>\n",
       "      <th>3</th>\n",
       "      <td>English</td>\n",
       "      <td>23</td>\n",
       "      <td>67</td>\n",
       "    </tr>\n",
       "    <tr>\n",
       "      <th>4</th>\n",
       "      <td>Hindi</td>\n",
       "      <td>98</td>\n",
       "      <td>45</td>\n",
       "    </tr>\n",
       "    <tr>\n",
       "      <th>5</th>\n",
       "      <td>Hindi</td>\n",
       "      <td>76</td>\n",
       "      <td>98</td>\n",
       "    </tr>\n",
       "    <tr>\n",
       "      <th>6</th>\n",
       "      <td>French</td>\n",
       "      <td>9</td>\n",
       "      <td>21</td>\n",
       "    </tr>\n",
       "    <tr>\n",
       "      <th>7</th>\n",
       "      <td>Hindi</td>\n",
       "      <td>123</td>\n",
       "      <td>32</td>\n",
       "    </tr>\n",
       "    <tr>\n",
       "      <th>8</th>\n",
       "      <td>French</td>\n",
       "      <td>49</td>\n",
       "      <td>54</td>\n",
       "    </tr>\n",
       "    <tr>\n",
       "      <th>9</th>\n",
       "      <td>Hindi</td>\n",
       "      <td>64</td>\n",
       "      <td>87</td>\n",
       "    </tr>\n",
       "    <tr>\n",
       "      <th>10</th>\n",
       "      <td>English</td>\n",
       "      <td>76</td>\n",
       "      <td>59</td>\n",
       "    </tr>\n",
       "    <tr>\n",
       "      <th>11</th>\n",
       "      <td>Hindi</td>\n",
       "      <td>59</td>\n",
       "      <td>43</td>\n",
       "    </tr>\n",
       "    <tr>\n",
       "      <th>12</th>\n",
       "      <td>French</td>\n",
       "      <td>31</td>\n",
       "      <td>26</td>\n",
       "    </tr>\n",
       "    <tr>\n",
       "      <th>13</th>\n",
       "      <td>English</td>\n",
       "      <td>11</td>\n",
       "      <td>10</td>\n",
       "    </tr>\n",
       "    <tr>\n",
       "      <th>14</th>\n",
       "      <td>Hindi</td>\n",
       "      <td>63</td>\n",
       "      <td>4</td>\n",
       "    </tr>\n",
       "    <tr>\n",
       "      <th>15</th>\n",
       "      <td>French</td>\n",
       "      <td>38</td>\n",
       "      <td>76</td>\n",
       "    </tr>\n",
       "  </tbody>\n",
       "</table>\n",
       "</div>"
      ],
      "text/plain": [
       "   Languages  scores  percentage\n",
       "0      Hindi      12          45\n",
       "1    English      55          32\n",
       "2     French      65          65\n",
       "3    English      23          67\n",
       "4      Hindi      98          45\n",
       "5      Hindi      76          98\n",
       "6     French       9          21\n",
       "7      Hindi     123          32\n",
       "8     French      49          54\n",
       "9      Hindi      64          87\n",
       "10   English      76          59\n",
       "11     Hindi      59          43\n",
       "12    French      31          26\n",
       "13   English      11          10\n",
       "14     Hindi      63           4\n",
       "15    French      38          76"
      ]
     },
     "execution_count": 8,
     "metadata": {},
     "output_type": "execute_result"
    }
   ],
   "source": [
    "df3"
   ]
  },
  {
   "cell_type": "code",
   "execution_count": 9,
   "metadata": {},
   "outputs": [
    {
     "data": {
      "text/plain": [
       "Hindi      0.4375\n",
       "French     0.3125\n",
       "English    0.2500\n",
       "Name: Languages, dtype: float64"
      ]
     },
     "execution_count": 9,
     "metadata": {},
     "output_type": "execute_result"
    }
   ],
   "source": [
    "df3['Languages'].value_counts()/len(df3['Languages'])                 #overall distribution"
   ]
  },
  {
   "cell_type": "code",
   "execution_count": 10,
   "metadata": {},
   "outputs": [
    {
     "name": "stdout",
     "output_type": "stream",
     "text": [
      "train_set index:\t Int64Index([6, 3, 2, 8, 14, 10, 9, 4, 15, 13, 7, 0], dtype='int64')\n",
      "test_set index:\t Int64Index([5, 11, 12, 1], dtype='int64')\n"
     ]
    }
   ],
   "source": [
    "train_set,test_set=train_test_split(df3,test_size=0.2,stratify=df3['Languages'],random_state=0)\n",
    "print('train_set index:\\t {}'.format(train_set.index))\n",
    "print('test_set index:\\t {}'.format(test_set.index))"
   ]
  },
  {
   "cell_type": "code",
   "execution_count": 11,
   "metadata": {},
   "outputs": [
    {
     "name": "stdout",
     "output_type": "stream",
     "text": [
      "Train set distribution:\n",
      " Hindi      0.416667\n",
      "French     0.333333\n",
      "English    0.250000\n",
      "Name: Languages, dtype: float64\n",
      "Test set distribution:\n",
      " Hindi      0.50\n",
      "French     0.25\n",
      "English    0.25\n",
      "Name: Languages, dtype: float64\n"
     ]
    }
   ],
   "source": [
    "print('Train set distribution:\\n',train_set['Languages'].value_counts()/len(train_set['Languages']))\n",
    "print('Test set distribution:\\n',test_set['Languages'].value_counts()/len(test_set['Languages']))"
   ]
  },
  {
   "cell_type": "code",
   "execution_count": 12,
   "metadata": {},
   "outputs": [
    {
     "name": "stdout",
     "output_type": "stream",
     "text": [
      "Train set distribution:\n",
      " Hindi      0.50\n",
      "English    0.25\n",
      "French     0.25\n",
      "Name: Languages, dtype: float64\n",
      "Test set distribution:\n",
      " French     0.50\n",
      "English    0.25\n",
      "Hindi      0.25\n",
      "Name: Languages, dtype: float64\n"
     ]
    }
   ],
   "source": [
    "train_set1,test_set1=train_test_split(df3,test_size=0.2,random_state=0)\n",
    "print('Train set distribution:\\n',train_set1['Languages'].value_counts()/len(train_set1['Languages']))\n",
    "print('Test set distribution:\\n',test_set1['Languages'].value_counts()/len(test_set1['Languages']))"
   ]
  },
  {
   "cell_type": "markdown",
   "metadata": {},
   "source": [
    "As seen from above stratify parameter helps to maintain the same overall distribution in train as well as test set\n",
    "based on certain feature!!!"
   ]
  },
  {
   "cell_type": "markdown",
   "metadata": {},
   "source": [
    "### TRAINING A ML MODEL SHOULD BE PERFECT. JUST BY FITTING THE TRAINING DATA ON ML MODEL MIGHT NOT DO THE TRICK. THAT IS WHERE CROSS VALIDATION COMES INTO PICTURE:"
   ]
  },
  {
   "cell_type": "markdown",
   "metadata": {},
   "source": [
    "-CROSS VALIDATION is a very important concept as it largely influences how our trained ML model will generalize when unseen data is presented to it.\n",
    "\n",
    "-CROSS VALIDATION splits our training set into N splits.The 1st split gets separated as Hold-Out/Reserved Split/Evaluation split.On the rest of N-1 splits, training of ML model is done.After training, evaluation of ML model is done on the hold-out set and evaluation score is calculated.\n",
    "\n",
    "-Thus N evaluations scores are obtained.The type of evaluation depends upon 'scoring' parameter."
   ]
  },
  {
   "cell_type": "code",
   "execution_count": 13,
   "metadata": {},
   "outputs": [
    {
     "data": {
      "text/plain": [
       "array([5.72769729e-13, 4.01472365e-13, 5.72769729e-13, 1.20792265e-12,\n",
       "       1.22213351e-12])"
      ]
     },
     "execution_count": 13,
     "metadata": {},
     "output_type": "execute_result"
    }
   ],
   "source": [
    "from sklearn.model_selection import cross_val_score\n",
    "from sklearn.linear_model import LinearRegression\n",
    "df=pd.DataFrame({'Year':np.arange(2001,2011),'Value':np.linspace(20,100,10)})\n",
    "X,y=df[['Year']],df[['Value']]                                     \n",
    "X_train,X_test,y_train,y_test=train_test_split(X,y,test_size=0.2,random_state=42)\n",
    "lin_reg=LinearRegression()\n",
    "lin_reg.fit(X_train,y_train)\n",
    "scores=cross_val_score(lin_reg,X_train,y_train,cv=5,scoring='neg_mean_squared_error')\n",
    "lin_rmse=np.sqrt(-scores)\n",
    "lin_rmse"
   ]
  },
  {
   "cell_type": "code",
   "execution_count": null,
   "metadata": {},
   "outputs": [],
   "source": []
  }
 ],
 "metadata": {
  "kernelspec": {
   "display_name": "Python 3",
   "language": "python",
   "name": "python3"
  },
  "language_info": {
   "codemirror_mode": {
    "name": "ipython",
    "version": 3
   },
   "file_extension": ".py",
   "mimetype": "text/x-python",
   "name": "python",
   "nbconvert_exporter": "python",
   "pygments_lexer": "ipython3",
   "version": "3.7.9"
  }
 },
 "nbformat": 4,
 "nbformat_minor": 4
}
