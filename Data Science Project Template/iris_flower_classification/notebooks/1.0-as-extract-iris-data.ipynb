{
 "cells": [
  {
   "cell_type": "markdown",
   "metadata": {},
   "source": [
    "## Extract IRIS Data From Kaggle:"
   ]
  },
  {
   "cell_type": "code",
   "execution_count": 114,
   "metadata": {},
   "outputs": [
    {
     "ename": "ModuleNotFoundError",
     "evalue": "No module named 'prefect'",
     "output_type": "error",
     "traceback": [
      "\u001b[1;31m---------------------------------------------------------------------------\u001b[0m",
      "\u001b[1;31mModuleNotFoundError\u001b[0m                       Traceback (most recent call last)",
      "\u001b[1;32md:\\Github\\Mastering-Machine-Learning\\Data Science Project Template\\iris_flower_classification\\notebooks\\1.0-as-extract-iris-data.ipynb Cell 2\u001b[0m in \u001b[0;36m<cell line: 6>\u001b[1;34m()\u001b[0m\n\u001b[0;32m      <a href='vscode-notebook-cell:/d%3A/Github/Mastering-Machine-Learning/Data%20Science%20Project%20Template/iris_flower_classification/notebooks/1.0-as-extract-iris-data.ipynb#X14sZmlsZQ%3D%3D?line=3'>4</a>\u001b[0m \u001b[39mimport\u001b[39;00m \u001b[39mos\u001b[39;00m\n\u001b[0;32m      <a href='vscode-notebook-cell:/d%3A/Github/Mastering-Machine-Learning/Data%20Science%20Project%20Template/iris_flower_classification/notebooks/1.0-as-extract-iris-data.ipynb#X14sZmlsZQ%3D%3D?line=4'>5</a>\u001b[0m \u001b[39mfrom\u001b[39;00m \u001b[39mdotenv\u001b[39;00m \u001b[39mimport\u001b[39;00m load_dotenv,find_dotenv\n\u001b[1;32m----> <a href='vscode-notebook-cell:/d%3A/Github/Mastering-Machine-Learning/Data%20Science%20Project%20Template/iris_flower_classification/notebooks/1.0-as-extract-iris-data.ipynb#X14sZmlsZQ%3D%3D?line=5'>6</a>\u001b[0m \u001b[39mimport\u001b[39;00m \u001b[39mprefect\u001b[39;00m\n",
      "\u001b[1;31mModuleNotFoundError\u001b[0m: No module named 'prefect'"
     ]
    }
   ],
   "source": [
    "#imports\n",
    "import requests\n",
    "from requests import session\n",
    "import os\n",
    "from dotenv import load_dotenv,find_dotenv\n",
    "import prefect"
   ]
  },
  {
   "cell_type": "code",
   "execution_count": 60,
   "metadata": {},
   "outputs": [
    {
     "data": {
      "text/plain": [
       "True"
      ]
     },
     "execution_count": 60,
     "metadata": {},
     "output_type": "execute_result"
    }
   ],
   "source": [
    "#find .env file from CWD.\n",
    "dotenv_path = find_dotenv()\n",
    "\n",
    "load_dotenv(dotenv_path)"
   ]
  },
  {
   "cell_type": "code",
   "execution_count": 61,
   "metadata": {},
   "outputs": [
    {
     "name": "stdout",
     "output_type": "stream",
     "text": [
      "anujsali \n"
     ]
    }
   ],
   "source": [
    "KAGGLE_USERNAME = os.environ.get(\"KAGGLE_USERNAME\")\n",
    "KAGGLE_PASSWORD = os.environ.get(\"KAGGLE_PASSWORD\")\n",
    "a = os.environ.get(\"a\")\n",
    "print(KAGGLE_USERNAME,KAGGLE_PASSWORD)"
   ]
  },
  {
   "cell_type": "code",
   "execution_count": 66,
   "metadata": {},
   "outputs": [
    {
     "name": "stdout",
     "output_type": "stream",
     "text": [
      "Downloading iris.zip to d:\\Github\\Mastering-Machine-Learning\\Data Science Project Template\\iris_flower_classification\\notebooks\n",
      "\n"
     ]
    },
    {
     "name": "stderr",
     "output_type": "stream",
     "text": [
      "\n",
      "  0%|          | 0.00/3.60k [00:00<?, ?B/s]\n",
      "100%|██████████| 3.60k/3.60k [00:00<00:00, 1.63MB/s]\n"
     ]
    }
   ],
   "source": [
    "! kaggle datasets download -d uciml/iris"
   ]
  },
  {
   "cell_type": "code",
   "execution_count": 88,
   "metadata": {},
   "outputs": [],
   "source": [
    "#Moving downloaded file to raw folder:\n",
    "raw_data_path = os.path.join(os.pardir,'data','raw','iris.zip')\n",
    "src_file_path = os.path.join(os.pardir,'notebooks','iris.zip')\n",
    "os.rename(src_file_path,raw_data_path)"
   ]
  },
  {
   "cell_type": "code",
   "execution_count": 90,
   "metadata": {},
   "outputs": [],
   "source": [
    "raw_data_path = os.path.join(os.pardir,'data','raw')\n",
    "zip_file_path = os.path.join(raw_data_path,'iris.zip')"
   ]
  },
  {
   "cell_type": "code",
   "execution_count": 67,
   "metadata": {},
   "outputs": [],
   "source": [
    "\n",
    "import zipfile"
   ]
  },
  {
   "cell_type": "code",
   "execution_count": 91,
   "metadata": {},
   "outputs": [],
   "source": [
    "with zipfile.ZipFile(zip_file_path,'r') as zip_ref:\n",
    "    zip_ref.extractall(raw_data_path)"
   ]
  },
  {
   "cell_type": "code",
   "execution_count": null,
   "metadata": {},
   "outputs": [],
   "source": [
    "get_raw_data_script_file = os.path.join(os.pardir,'src','data','get_raw_data.py')"
   ]
  },
  {
   "cell_type": "code",
   "execution_count": null,
   "metadata": {},
   "outputs": [],
   "source": [
    "#Building a reproducibility script to get Iris Dataset:\n",
    "%%writefile get_raw_data.py\n",
    "import os\n",
    "import zipfile\n",
    "from kaggle.api.kaggle_api_extended import KaggleApi\n",
    "\n",
    "api= KaggleApi()\n",
    "api.authenticate()\n",
    "api.dataset_download_file('uciml/iris',file_name='Iris.csv',path=raw_data_path)\n",
    "\n"
   ]
  },
  {
   "cell_type": "code",
   "execution_count": 103,
   "metadata": {},
   "outputs": [],
   "source": [
    "from kaggle.api.kaggle_api_extended import KaggleApi\n",
    "api= KaggleApi()\n",
    "api.authenticate()"
   ]
  },
  {
   "cell_type": "code",
   "execution_count": 112,
   "metadata": {},
   "outputs": [
    {
     "data": {
      "text/plain": [
       "True"
      ]
     },
     "execution_count": 112,
     "metadata": {},
     "output_type": "execute_result"
    }
   ],
   "source": []
  },
  {
   "cell_type": "code",
   "execution_count": null,
   "metadata": {},
   "outputs": [],
   "source": []
  }
 ],
 "metadata": {
  "kernelspec": {
   "display_name": "Python 3.9.13 ('base')",
   "language": "python",
   "name": "python3"
  },
  "language_info": {
   "codemirror_mode": {
    "name": "ipython",
    "version": 3
   },
   "file_extension": ".py",
   "mimetype": "text/x-python",
   "name": "python",
   "nbconvert_exporter": "python",
   "pygments_lexer": "ipython3",
   "version": "3.9.13"
  },
  "orig_nbformat": 4,
  "vscode": {
   "interpreter": {
    "hash": "367c9dabc516f8325efd3bb2a1e95e4f40433a2c2639422a5c3513189fa409e1"
   }
  }
 },
 "nbformat": 4,
 "nbformat_minor": 2
}
