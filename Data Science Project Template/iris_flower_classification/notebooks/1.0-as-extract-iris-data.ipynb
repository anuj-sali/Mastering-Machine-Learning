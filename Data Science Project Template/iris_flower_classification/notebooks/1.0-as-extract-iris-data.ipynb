{
 "cells": [
  {
   "cell_type": "markdown",
   "metadata": {},
   "source": [
    "## Extract IRIS Data From Kaggle:"
   ]
  },
  {
   "cell_type": "code",
   "execution_count": 1,
   "metadata": {},
   "outputs": [],
   "source": [
    "#imports\n",
    "import requests\n",
    "from requests import session\n",
    "import os\n",
    "from dotenv import load_dotenv,find_dotenv"
   ]
  },
  {
   "cell_type": "code",
   "execution_count": 2,
   "metadata": {},
   "outputs": [],
   "source": [
    "get_raw_data_script_file = os.path.join(os.pardir,'src','data','get_raw_data.py')"
   ]
  },
  {
   "cell_type": "code",
   "execution_count": 3,
   "metadata": {},
   "outputs": [
    {
     "name": "stdout",
     "output_type": "stream",
     "text": [
      "Overwriting ..\\src\\data\\get_raw_data.py\n"
     ]
    }
   ],
   "source": [
    "%%writefile $get_raw_data_script_file\n",
    "import os\n",
    "import zipfile\n",
    "from kaggle.api.kaggle_api_extended import KaggleApi\n",
    "import logging\n",
    "\n",
    "\n",
    "def main(project_dir):\n",
    "    ''' main method to get kaggle data & store it in raw folder of data'''\n",
    "    \n",
    "    #Get the logger:\n",
    "    logger = logging.getLogger(__name__)\n",
    "    logger.info(\"Getting the raw data\")\n",
    "\n",
    "    logger.info(\"Authenticating kaggle dataset:\")\n",
    "    #call authenticate kaggle\n",
    "    api = authenticate_kaggle()\n",
    "    \n",
    "    #raw_data_file_path to which data will be downloaded.\n",
    "    raw_data_file_path = os.path.join(project_dir,'data','raw')\n",
    "\n",
    "    logger.info(\"Downloading iris kaggle dataset:\")\n",
    "    #download kaggle dataset & store in raw_data folder\n",
    "    api.dataset_download_file('uciml/iris',file_name='Iris.csv',path=raw_data_file_path)\n",
    "\n",
    "    logger.info(\"Downloaded iris kaggle dataset & store in raw folder of data:\")\n",
    "\n",
    "def authenticate_kaggle():\n",
    "    api= KaggleApi()\n",
    "    api.authenticate()\n",
    "    return api\n",
    "\n",
    "if __name__== \"__main__\":\n",
    "    #Define the project directory\n",
    "    project_dir = os.path.join(os.path.dirname(__file__),os.pardir,os.pardir)\n",
    "\n",
    "    #Setting up logger:\n",
    "    logging.basicConfig(filename = 'file.log',\n",
    "                    level = logging.INFO,\n",
    "                    format = '%(asctime)s:%(levelname)s:%(name)s:%(message)s')\n",
    "\n",
    "    #call the main \n",
    "    main(project_dir)"
   ]
  },
  {
   "cell_type": "code",
   "execution_count": 4,
   "metadata": {},
   "outputs": [],
   "source": [
    "! python $get_raw_data_script_file"
   ]
  }
 ],
 "metadata": {
  "kernelspec": {
   "display_name": "Python ('iris_streamlit')",
   "language": "python",
   "name": "python3"
  },
  "language_info": {
   "codemirror_mode": {
    "name": "ipython",
    "version": 3
   },
   "file_extension": ".py",
   "mimetype": "text/x-python",
   "name": "python",
   "nbconvert_exporter": "python",
   "pygments_lexer": "ipython3",
   "version": "3.9.13"
  },
  "orig_nbformat": 4,
  "vscode": {
   "interpreter": {
    "hash": "25a19fbe0a9132dfb9279d48d161753c6352f8f9478c2e74383d340069b907c3"
   }
  }
 },
 "nbformat": 4,
 "nbformat_minor": 2
}
