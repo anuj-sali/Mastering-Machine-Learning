{
 "cells": [
  {
   "cell_type": "markdown",
   "metadata": {},
   "source": [
    "## Extract IRIS Data From Kaggle:"
   ]
  },
  {
   "cell_type": "code",
   "execution_count": 1,
   "metadata": {},
   "outputs": [],
   "source": [
    "#imports\n",
    "import requests\n",
    "from requests import session\n",
    "import os\n",
    "from dotenv import load_dotenv,find_dotenv\n",
    "import prefect"
   ]
  },
  {
   "cell_type": "code",
   "execution_count": 60,
   "metadata": {},
   "outputs": [
    {
     "data": {
      "text/plain": [
       "True"
      ]
     },
     "execution_count": 60,
     "metadata": {},
     "output_type": "execute_result"
    }
   ],
   "source": [
    "#find .env file from CWD.\n",
    "dotenv_path = find_dotenv()\n",
    "\n",
    "load_dotenv(dotenv_path)"
   ]
  },
  {
   "cell_type": "code",
   "execution_count": 61,
   "metadata": {},
   "outputs": [
    {
     "name": "stdout",
     "output_type": "stream",
     "text": [
      "anujsali \n"
     ]
    }
   ],
   "source": [
    "KAGGLE_USERNAME = os.environ.get(\"KAGGLE_USERNAME\")\n",
    "KAGGLE_PASSWORD = os.environ.get(\"KAGGLE_PASSWORD\")\n",
    "a = os.environ.get(\"a\")\n",
    "print(KAGGLE_USERNAME,KAGGLE_PASSWORD)"
   ]
  },
  {
   "cell_type": "code",
   "execution_count": 66,
   "metadata": {},
   "outputs": [
    {
     "name": "stdout",
     "output_type": "stream",
     "text": [
      "Downloading iris.zip to d:\\Github\\Mastering-Machine-Learning\\Data Science Project Template\\iris_flower_classification\\notebooks\n",
      "\n"
     ]
    },
    {
     "name": "stderr",
     "output_type": "stream",
     "text": [
      "\n",
      "  0%|          | 0.00/3.60k [00:00<?, ?B/s]\n",
      "100%|██████████| 3.60k/3.60k [00:00<00:00, 1.63MB/s]\n"
     ]
    }
   ],
   "source": [
    "#! kaggle datasets download -d uciml/iris"
   ]
  },
  {
   "cell_type": "code",
   "execution_count": 88,
   "metadata": {},
   "outputs": [],
   "source": [
    "#Moving downloaded file to raw folder:\n",
    "raw_data_path = os.path.join(os.pardir,'data','raw','iris.zip')\n",
    "src_file_path = os.path.join(os.pardir,'notebooks','iris.zip')\n",
    "os.rename(src_file_path,raw_data_path)"
   ]
  },
  {
   "cell_type": "code",
   "execution_count": 90,
   "metadata": {},
   "outputs": [],
   "source": [
    "raw_data_path = os.path.join(os.pardir,'data','raw')\n",
    "zip_file_path = os.path.join(raw_data_path,'iris.zip')"
   ]
  },
  {
   "cell_type": "code",
   "execution_count": 67,
   "metadata": {},
   "outputs": [],
   "source": [
    "\n",
    "import zipfile"
   ]
  },
  {
   "cell_type": "code",
   "execution_count": 91,
   "metadata": {},
   "outputs": [],
   "source": [
    "with zipfile.ZipFile(zip_file_path,'r') as zip_ref:\n",
    "    zip_ref.extractall(raw_data_path)"
   ]
  },
  {
   "cell_type": "code",
   "execution_count": null,
   "metadata": {},
   "outputs": [],
   "source": [
    "get_raw_data_script_file = os.path.join(os.pardir,'src','data','get_raw_data.py')"
   ]
  },
  {
   "cell_type": "code",
   "execution_count": null,
   "metadata": {},
   "outputs": [],
   "source": [
    "import logging\n",
    "logging.getLogger(__name__)"
   ]
  },
  {
   "cell_type": "code",
   "execution_count": null,
   "metadata": {},
   "outputs": [],
   "source": [
    "#Building a reproducibility script to get Iris Dataset:\n",
    "%%writefile $get_raw_data_script_file\n",
    "import os\n",
    "import prefect\n",
    "from prefect import task,flow\n",
    "import zipfile\n",
    "from kaggle.api.kaggle_api_extended import KaggleApi\n",
    "import logging\n",
    "\n",
    "\n",
    "def main(project_dir):\n",
    "    ''' main method to get kaggle data & store it in raw folder of data'''\n",
    "    \n",
    "    #Get the logger:\n",
    "    logger = logging.getLogger(__name__)\n",
    "    logger.info(\"Getting the raw data\")\n",
    "\n",
    "\n",
    "\n",
    "\n",
    "    logger.info(\"Authenticating kaggle dataset:\")\n",
    "    #call authenticate kaggle\n",
    "    api = authenticate_kaggle()\n",
    "    \n",
    "\n",
    "    #raw_data_file_path to which data will be downloaded.\n",
    "    raw_data_file_path = os.path.join(project_dir,'data','raw')\n",
    "\n",
    "    logger.info(\"Downloading iris kaggle dataset:\")\n",
    "    #download kaggle dataset & store in raw_data folder\n",
    "    api.dataset_download_file('uciml/iris',file_name='Iris.csv',path=raw_data_file_path)\n",
    "\n",
    "    logger.info(\"Downloaded iris kaggle dataset & store in raw folder of data:\")\n",
    "\n",
    "\n",
    "\n",
    "\n",
    "def authenticate_kaggle():\n",
    "    api= KaggleApi()\n",
    "    api.authenticate()\n",
    "    return api\n",
    "\n",
    "if __name__= \"__main__\":\n",
    "    #Define the project directory\n",
    "    project_dir = os.path.join(os.path.dirname(__file__),os.pardir,os.pardir)\n",
    "\n",
    "    #call the main \n",
    "    main(project_dir)\n",
    "\n"
   ]
  },
  {
   "cell_type": "code",
   "execution_count": 4,
   "metadata": {},
   "outputs": [
    {
     "ename": "NameError",
     "evalue": "name '__file__' is not defined",
     "output_type": "error",
     "traceback": [
      "\u001b[1;31m---------------------------------------------------------------------------\u001b[0m",
      "\u001b[1;31mNameError\u001b[0m                                 Traceback (most recent call last)",
      "\u001b[1;32md:\\Github\\Mastering-Machine-Learning\\Data Science Project Template\\iris_flower_classification\\notebooks\\1.0-as-extract-iris-data.ipynb Cell 12\u001b[0m in \u001b[0;36m<cell line: 1>\u001b[1;34m()\u001b[0m\n\u001b[1;32m----> <a href='vscode-notebook-cell:/d%3A/Github/Mastering-Machine-Learning/Data%20Science%20Project%20Template/iris_flower_classification/notebooks/1.0-as-extract-iris-data.ipynb#X53sZmlsZQ%3D%3D?line=0'>1</a>\u001b[0m os\u001b[39m.\u001b[39mpath\u001b[39m.\u001b[39mdirname(\u001b[39m__file__\u001b[39;49m)\n",
      "\u001b[1;31mNameError\u001b[0m: name '__file__' is not defined"
     ]
    }
   ],
   "source": [
    "os.path.dirname(__file__)"
   ]
  },
  {
   "cell_type": "code",
   "execution_count": 8,
   "metadata": {},
   "outputs": [
    {
     "data": {
      "text/plain": [
       "'..\\\\..'"
      ]
     },
     "execution_count": 8,
     "metadata": {},
     "output_type": "execute_result"
    }
   ],
   "source": [
    "os.path.join(os.pardir,os.pardir)"
   ]
  },
  {
   "cell_type": "code",
   "execution_count": 103,
   "metadata": {},
   "outputs": [],
   "source": [
    "from kaggle.api.kaggle_api_extended import KaggleApi\n",
    "api= KaggleApi()\n",
    "api.authenticate()"
   ]
  },
  {
   "cell_type": "code",
   "execution_count": 112,
   "metadata": {},
   "outputs": [
    {
     "data": {
      "text/plain": [
       "True"
      ]
     },
     "execution_count": 112,
     "metadata": {},
     "output_type": "execute_result"
    }
   ],
   "source": []
  },
  {
   "cell_type": "code",
   "execution_count": null,
   "metadata": {},
   "outputs": [],
   "source": []
  }
 ],
 "metadata": {
  "kernelspec": {
   "display_name": "Python 3.9.13 ('base')",
   "language": "python",
   "name": "python3"
  },
  "language_info": {
   "codemirror_mode": {
    "name": "ipython",
    "version": 3
   },
   "file_extension": ".py",
   "mimetype": "text/x-python",
   "name": "python",
   "nbconvert_exporter": "python",
   "pygments_lexer": "ipython3",
   "version": "3.9.13"
  },
  "orig_nbformat": 4,
  "vscode": {
   "interpreter": {
    "hash": "367c9dabc516f8325efd3bb2a1e95e4f40433a2c2639422a5c3513189fa409e1"
   }
  }
 },
 "nbformat": 4,
 "nbformat_minor": 2
}
