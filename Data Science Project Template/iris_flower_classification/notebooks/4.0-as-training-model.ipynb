{
 "cells": [
  {
   "cell_type": "markdown",
   "metadata": {},
   "source": [
    "## Training Our Model On Processed Data:"
   ]
  },
  {
   "cell_type": "code",
   "execution_count": 15,
   "metadata": {},
   "outputs": [],
   "source": [
    "#importing basic libraries:\n",
    "import pandas as pd\n",
    "import numpy as np\n",
    "from sklearn.linear_model import LinearRegression\n",
    "from sklearn.model_selection import train_test_split\n",
    "from sklearn.preprocessing import StandardScaler"
   ]
  },
  {
   "cell_type": "code",
   "execution_count": 16,
   "metadata": {},
   "outputs": [
    {
     "ename": "SyntaxError",
     "evalue": "unexpected EOF while parsing (2943246708.py, line 28)",
     "output_type": "error",
     "traceback": [
      "\u001b[1;36m  Input \u001b[1;32mIn [16]\u001b[1;36m\u001b[0m\n\u001b[1;33m    # X_train,y_train,X_test,y_test = train_test_split()\u001b[0m\n\u001b[1;37m                                                        ^\u001b[0m\n\u001b[1;31mSyntaxError\u001b[0m\u001b[1;31m:\u001b[0m unexpected EOF while parsing\n"
     ]
    }
   ],
   "source": [
    "#Processed file path:\n",
    "processed_csv_file_path = os.path.join(os.pardir,\"data\",\"processed\",'processed_iris.csv')\n",
    "\n",
    "#Getting the processed data:\n",
    "processed_df = pd.read_csv(processed_csv_file_path,index_col='Id')\n",
    "display(processed_df.head())\n",
    "\n",
    "#Forming X and y from processed data:\n",
    "X = processed_df.iloc[:,:-1]\n",
    "y = processed_df.iloc[:,-1]\n",
    "\n",
    "#Spliting data into train and test data:\n",
    "X_train, X_test, y_train, y_test = train_test_split(X, y, test_size=0.2, random_state=42)\n",
    "\n",
    "#Standardization of Data: Mandatory for Geometric based algorithms\n",
    "X_train = StandardScaler.fit_transform(X_train)\n",
    "X_test = StandardScaler.transform(X_test)\n",
    "\n",
    "lr_model = LinearRegression()\n",
    "lr_model.fit(X_train,y_train)\n",
    "print( lr_model.score(X_train,y_train, lr_model.score(X_test,y_test))\n",
    "\n",
    "\n",
    "\n",
    "\n",
    "\n",
    "\n",
    "# X_train,y_train,X_test,y_test = train_test_split()"
   ]
  },
  {
   "cell_type": "code",
   "execution_count": null,
   "metadata": {},
   "outputs": [],
   "source": []
  }
 ],
 "metadata": {
  "kernelspec": {
   "display_name": "Python 3.9.13 ('base')",
   "language": "python",
   "name": "python3"
  },
  "language_info": {
   "codemirror_mode": {
    "name": "ipython",
    "version": 3
   },
   "file_extension": ".py",
   "mimetype": "text/x-python",
   "name": "python",
   "nbconvert_exporter": "python",
   "pygments_lexer": "ipython3",
   "version": "3.9.13"
  },
  "orig_nbformat": 4,
  "vscode": {
   "interpreter": {
    "hash": "367c9dabc516f8325efd3bb2a1e95e4f40433a2c2639422a5c3513189fa409e1"
   }
  }
 },
 "nbformat": 4,
 "nbformat_minor": 2
}
