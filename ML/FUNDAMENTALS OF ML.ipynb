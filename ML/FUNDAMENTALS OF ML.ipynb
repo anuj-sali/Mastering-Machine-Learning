{
 "cells": [
  {
   "cell_type": "markdown",
   "metadata": {},
   "source": [
    "# FUNDAMENTALS OF MACHINE LEARNING:"
   ]
  },
  {
   "cell_type": "markdown",
   "metadata": {},
   "source": [
    "## 1.ML DEFINATION:"
   ]
  },
  {
   "cell_type": "markdown",
   "metadata": {},
   "source": [
    "### ARTHUR SAMUEL(1959):"
   ]
  },
  {
   "cell_type": "markdown",
   "metadata": {},
   "source": [
    "*ML is the field of study that gives machines the ability to learn without being explicitly programmed*"
   ]
  },
  {
   "cell_type": "markdown",
   "metadata": {},
   "source": [
    "### TOM MITCHELL(1987)"
   ]
  },
  {
   "cell_type": "markdown",
   "metadata": {},
   "source": [
    "*A machine is said to learn tasks T with respect to parameters Performance P and Experience E, it its Performance P in tasks T increases with Experience E.*"
   ]
  },
  {
   "cell_type": "markdown",
   "metadata": {},
   "source": [
    "## 2.WHY ML? NOT PROGRAMMING?"
   ]
  },
  {
   "cell_type": "markdown",
   "metadata": {},
   "source": [
    "i)Well, ML allows machines to learn basically from data. If you have sufficient data with you, training a algorithm to build the model and then using the algorithm to predict new data using built model when unseen data is presented to it is the basic idea of Machine Learning.\n",
    "Whereas programming seem tedious as compared to it since '**rules writing**' will become complex. Imagine the task of Face Recognition using programming.\n",
    "\n",
    "ii)Next point is updation of data:\n",
    "   In ML, new data can be added with old data to train model. Its as simple as that.\n",
    "   What about programming?Again rule writing huh?\n",
    "\n",
    "iii)Some ML systems learn by itself like reinforcement learner.Programming will never reach that stage.\n",
    "\n",
    "iv)ML is simple!"
   ]
  },
  {
   "cell_type": "markdown",
   "metadata": {},
   "source": [
    "## 3. TYPES OF ML SYSTEMS:"
   ]
  },
  {
   "cell_type": "markdown",
   "metadata": {},
   "source": [
    "Based on mode of supervision:\n",
    "i)Supervised ii)Unsupervised iii)Reinforcement\n",
    "\n",
    "Based on whether system learns from stream of incoming data:\n",
    "i)Online ii)Batch\n",
    "\n",
    "Based on how ML system works:\n",
    "i)Instance Based ii)Model Based."
   ]
  },
  {
   "cell_type": "markdown",
   "metadata": {},
   "source": [
    " -In supervised leaarning system, input:Features output:Labels both are fed to train ML model. Then new input/features are given and trained model is allowed to generalize.(to predict).\n",
    " \n",
    " -In unsupervised learning system, only input data is provided. No labels are provided during training. ML system has to itself group data into various labels.\n",
    " \n",
    " -Reinforcement learner is like a child who is allowed to do tasks. Based upon task is successful or not,rewards or penalty is given. If penalty is given the system learns and updates its **policy** to act."
   ]
  },
  {
   "cell_type": "markdown",
   "metadata": {},
   "source": [
    "-Online learner systems learns from incoming stream of data like stock market analysis. Continuous learning takes place.\n",
    "\n",
    "-Whereas, in batch learning model is trained only on batch(a set of training examples).Then no learning takes place.Then is generalize to new data."
   ]
  },
  {
   "cell_type": "markdown",
   "metadata": {},
   "source": [
    "-In instance based learning, new data point is compared with previously identified/calculated data point,and on that basis the model generalizes.This model runs similarity measures between new data point and previously identified data points.\n",
    "\n",
    "-In model based learning, on the basis of training data model is formulated and this model does generalization."
   ]
  },
  {
   "cell_type": "markdown",
   "metadata": {},
   "source": [
    "EXAMPLES:\n",
    "**SUPERVISED LEARNING**:\n",
    "i)Linear regression\n",
    "ii)Logistic regression\n",
    "iii)K-Nearest-Neighbours\n",
    "iv)Decision Trees & Random Forest\n",
    "v)Neural networks."
   ]
  },
  {
   "cell_type": "markdown",
   "metadata": {},
   "source": [
    "**UNSUPERVISED LEARNING**\n",
    "I) CLUSTERING:\n",
    "i) K-means\n",
    "ii) Heirarchical Clustering\n",
    "iii) Expectation Maximization\n",
    "\n",
    "II) VISUALIZATION AND DIMENSIONALITY REDUCTION:\n",
    "i) Principal Component Analysis\n",
    "ii) Kernel PCA\n",
    "iii) Linearly Local Embedding\n",
    "iv) t-Distributed-Stochastic-Neighbour-Embedding\n",
    "\n",
    "III) ASSOCIATION RULE:\n",
    "i) Apriori\n",
    "ii) Eclat\n",
    "\n",
    "IV) ANAMALY DETECTION\n"
   ]
  },
  {
   "cell_type": "code",
   "execution_count": null,
   "metadata": {},
   "outputs": [],
   "source": []
  }
 ],
 "metadata": {
  "kernelspec": {
   "display_name": "Python 3",
   "language": "python",
   "name": "python3"
  },
  "language_info": {
   "codemirror_mode": {
    "name": "ipython",
    "version": 3
   },
   "file_extension": ".py",
   "mimetype": "text/x-python",
   "name": "python",
   "nbconvert_exporter": "python",
   "pygments_lexer": "ipython3",
   "version": "3.7.9"
  }
 },
 "nbformat": 4,
 "nbformat_minor": 4
}
