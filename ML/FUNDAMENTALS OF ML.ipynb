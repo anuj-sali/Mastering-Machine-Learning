{
 "cells": [
  {
   "cell_type": "markdown",
   "metadata": {},
   "source": [
    "# FUNDAMENTALS OF MACHINE LEARNING:"
   ]
  },
  {
   "cell_type": "markdown",
   "metadata": {},
   "source": [
    "## 1.ML DEFINATION:"
   ]
  },
  {
   "cell_type": "markdown",
   "metadata": {},
   "source": [
    "### ARTHUR SAMUEL(1959):"
   ]
  },
  {
   "cell_type": "markdown",
   "metadata": {},
   "source": [
    "*ML is the field of study that gives machines the ability to learn without being explicitly programmed*."
   ]
  },
  {
   "cell_type": "markdown",
   "metadata": {},
   "source": [
    "### TOM MITCHELL(1987)"
   ]
  },
  {
   "cell_type": "markdown",
   "metadata": {},
   "source": [
    "*A machine is said to learn tasks T with respect to parameters Performance P and Experience E, it its Performance P in tasks T increases with Experience E.*"
   ]
  },
  {
   "cell_type": "markdown",
   "metadata": {},
   "source": [
    "## 2.WHY ML? NOT PROGRAMMING?"
   ]
  },
  {
   "cell_type": "markdown",
   "metadata": {},
   "source": [
    "i)Well, ML allows machines to learn basically from data. If you have sufficient data with you, training a algorithm to build the model and then using the algorithm to predict new data using built model when unseen data is presented to it is the basic idea of Machine Learning.\n",
    "Whereas programming seem tedious as compared to it since '**rules writing**' will become complex. Imagine the task of Face Recognition using programming.\n",
    "\n",
    "ii)Next point is updation of data:\n",
    "   In ML, new data can be added with old data to train model. Its as simple as that.\n",
    "   What about programming?Again rule writing huh?\n",
    "\n",
    "iii)Some ML systems learn by itself like reinforcement learner.Programming will never reach that stage.\n",
    "\n",
    "iv)ML is simple!"
   ]
  },
  {
   "cell_type": "markdown",
   "metadata": {},
   "source": [
    "## 3. TYPES OF ML SYSTEMS:"
   ]
  },
  {
   "cell_type": "markdown",
   "metadata": {},
   "source": [
    "Based on mode of supervision:\n",
    "i)Supervised ii)Unsupervised iii)Reinforcement\n",
    "\n",
    "Based on whether system learns from stream of incoming data:\n",
    "i)Online ii)Batch\n",
    "\n",
    "Based on how ML system works:\n",
    "i)Instance Based ii)Model Based."
   ]
  },
  {
   "cell_type": "markdown",
   "metadata": {},
   "source": [
    " -In supervised leaarning system, input:Features output:Labels both are fed to train ML model. Then new input/features are given and trained model is allowed to generalize.(to predict).\n",
    " \n",
    " -In unsupervised learning system, only input data is provided. No labels are provided during training. ML system has to itself group data into various labels.\n",
    " \n",
    " -Reinforcement learner is like a child who is allowed to do tasks. Based upon task is successful or not,rewards or penalty is given. If penalty is given the system learns and updates its **policy** to act."
   ]
  },
  {
   "cell_type": "markdown",
   "metadata": {},
   "source": [
    "-Online learner systems learns from incoming stream of data like stock market analysis. Continuous learning takes place.\n",
    "\n",
    "-Whereas, in batch learning model is trained only on batch(a set of training examples).Then no learning takes place.Then is generalize to new data."
   ]
  },
  {
   "cell_type": "markdown",
   "metadata": {},
   "source": [
    "-In instance based learning, new data point is compared with previously identified/calculated data point,and on that basis the model generalizes.This model runs similarity measures between new data point and previously identified data points.\n",
    "\n",
    "-In model based learning, on the basis of training data model is formulated and this model does generalization."
   ]
  },
  {
   "cell_type": "markdown",
   "metadata": {},
   "source": [
    "EXAMPLES:\n",
    "**SUPERVISED LEARNING**:\n",
    "i)Linear regression\n",
    "ii)Logistic regression\n",
    "iii)K-Nearest-Neighbours\n",
    "iv)Decision Trees & Random Forest\n",
    "v)Neural networks."
   ]
  },
  {
   "cell_type": "markdown",
   "metadata": {},
   "source": [
    "**UNSUPERVISED LEARNING**\n",
    "I) CLUSTERING:\n",
    "i) K-means\n",
    "ii) Heirarchical Clustering\n",
    "iii) Expectation Maximization\n",
    "\n",
    "II) VISUALIZATION AND DIMENSIONALITY REDUCTION:\n",
    "i) Principal Component Analysis\n",
    "ii) Kernel PCA\n",
    "iii) Linearly Local Embedding\n",
    "iv) t-Distributed-Stochastic-Neighbour-Embedding\n",
    "\n",
    "III) ASSOCIATION RULE:\n",
    "i) Apriori\n",
    "ii) Eclat\n",
    "\n",
    "IV) ANAMALY DETECTION\n"
   ]
  },
  {
   "cell_type": "markdown",
   "metadata": {},
   "source": [
    "**SEMI-SUPERVISED LEARNING**\n",
    "I)Google Photos:\n",
    "In this app, different photos of different persons are grouped together.(Unsupervised)\n",
    "Then,after we name one person all the group corresponding to that person gets named.(supervised)"
   ]
  },
  {
   "cell_type": "markdown",
   "metadata": {},
   "source": [
    "***FUN FACT***:\n",
    "According to 2001 Microsoft Famous Paper,**fairly different ML algorithms perform identically when feed with enough data(millions) for complex problems**.\n"
   ]
  },
  {
   "cell_type": "markdown",
   "metadata": {},
   "source": [
    "That means size of data plays a very important role even if your ML algorithm is simple.But in reality, we have small to medium sized data available, so selection of ML algorithm is also equally important."
   ]
  },
  {
   "cell_type": "markdown",
   "metadata": {},
   "source": [
    "## 4. CHALENGES IN ML:"
   ]
  },
  {
   "cell_type": "markdown",
   "metadata": {},
   "source": [
    "THERE ARE MAINLY TWO CHALENGES RELATING TO:\n",
    "    A) DATA\n",
    "    B) ML MODEL ALGORITHM."
   ]
  },
  {
   "cell_type": "markdown",
   "metadata": {},
   "source": [
    "**BAD DATA**:\n",
    "i)Less Data:\n",
    "If amount of data is less present,the ML model will not able to trained well, then eventually it will not be able to generalize well.\n",
    "\n",
    "ii)Non-Representative Training Data:\n",
    "for ex: if x1 is less y is more, if x1 is more y is more.(x1=1st feature,y=label), this is non-representative training data.\n",
    "To take this into account, large training data is to be taken via good sampling technique(otherwise sampling bias will be there).If suppose data is less, sampling noise will be there.\n",
    "\n",
    "iii)Poor quality data:\n",
    "See whether the data is correctly measured. Errors in measurement and human mistakes are inevitable.Missing values may be present.\n",
    "\n",
    "iv)Irrelevant features:\n",
    "Remove irrelevant features which have no effect on label(target variable).This comes under feature engineering."
   ]
  },
  {
   "cell_type": "markdown",
   "metadata": {},
   "source": [
    "**BAD ML ALGORITHM**:\n",
    "\n",
    "I)***OVERFITTING TRAINING DATA***:\n",
    "It means our model have successfully fitted training data such that training error is very less but generalization error is large.It becomes important to know whether the pattern(model fit) is real or result of noise in data.\n",
    "CURES:\n",
    "i)REGULARIZATION: It means either simplify the model or reduce contraints of model.(reduce parameters of model)\n",
    "Here comes important concept of HYPERPARAMETER TUNING.Lets talk about it in next section.\n",
    "ii)ADD MORE TRAINING DATA (TO NULIFY NOISE)\n",
    "iii)To reduce noise."
   ]
  },
  {
   "cell_type": "markdown",
   "metadata": {},
   "source": [
    "II)***UNDERFITTING OF TRAINING DATA***:\n",
    "It means our model is too simple to fit the training data.\n",
    "CURES:\n",
    "i)Increase the constraints.(add more parameter to model)(Select powerful model)\n",
    "ii)Feature engg."
   ]
  },
  {
   "cell_type": "markdown",
   "metadata": {},
   "source": [
    "## 5.HYPERPARAMETER TUNING:"
   ]
  },
  {
   "cell_type": "markdown",
   "metadata": {},
   "source": [
    "REMEMBER:\n",
    "Hyperparameters are the performance parameters. Tuning them is to selecting optimal hyperparameters for optimal performance of our ML Model.\n",
    "\n",
    "There are two methods in hyperparameter tuning:\n",
    "\n",
    "A)RandomizedCV method:\n",
    "In this method,we give range to each hyperparameter and see corresponding to which set of hyperparameters, our model performs best.It is automated hyperparamter tuning process.We give n_iter(no. of iterations) to it and it runs for that no. only, each time selecting different set of hyperparameters in the range.\n",
    "\n",
    "B)GridSearchCV method:\n",
    "It is manual hyperparamters tuning process in which we give finite hyperparameters manually. We get performance on given set of hyperparamters."
   ]
  },
  {
   "cell_type": "markdown",
   "metadata": {},
   "source": [
    "## 6.Concept of Train-Test-Split:"
   ]
  },
  {
   "cell_type": "markdown",
   "metadata": {},
   "source": [
    "In ML problems, we will be dividing our dataset into train and test set. Train set as name suggest will be used to train our ML model algorithm whereas Test set will be used for evaluation of build model."
   ]
  },
  {
   "cell_type": "markdown",
   "metadata": {},
   "source": [
    "*This was all theory sufficient to suffice in ML domain according to me.We will be doing everything hands on from next module.Bear with me!*"
   ]
  }
 ],
 "metadata": {
  "kernelspec": {
   "display_name": "Python 3",
   "language": "python",
   "name": "python3"
  },
  "language_info": {
   "codemirror_mode": {
    "name": "ipython",
    "version": 3
   },
   "file_extension": ".py",
   "mimetype": "text/x-python",
   "name": "python",
   "nbconvert_exporter": "python",
   "pygments_lexer": "ipython3",
   "version": "3.7.9"
  }
 },
 "nbformat": 4,
 "nbformat_minor": 4
}
